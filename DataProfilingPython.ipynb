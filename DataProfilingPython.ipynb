{
  "nbformat": 4,
  "nbformat_minor": 0,
  "metadata": {
    "colab": {
      "name": "DataProfilingPython.ipynb",
      "provenance": []
    },
    "kernelspec": {
      "name": "python3",
      "display_name": "Python 3"
    }
  },
  "cells": [
    {
      "cell_type": "code",
      "metadata": {
        "colab": {
          "base_uri": "https://localhost:8080/"
        },
        "id": "Ut6xqPaB40o6",
        "outputId": "15b896b5-e867-442c-b79c-7eba4745ea8d"
      },
      "source": [
        "import pandas as pd\r\n",
        "# Baca dataset uncleaned_raw.csv\r\n",
        "uncleaned_raw = pd.read_csv('https://dqlab-dataset.s3-ap-southeast-1.amazonaws.com/uncleaned_raw.csv')\r\n",
        "#inspeksi dataframe uncleaned_raw\r\n",
        "print('Lima data teratas:') \r\n",
        "print(uncleaned_raw.head())\r\n",
        "#Check kolom yang mengandung missing value\r\n",
        "print('\\nKolom dengan missing value:') \r\n",
        "print(uncleaned_raw.isnull().any())\r\n",
        "#Persentase missing value\r\n",
        "length_qty = len(uncleaned_raw['Quantity'])\r\n",
        "count_qty = uncleaned_raw['Quantity'].count()\r\n",
        "#mengurangi length dengan count\r\n",
        "number_of_missing_values_qty = length_qty - count_qty\r\n",
        "#mengubah ke bentuk float\r\n",
        "float_of_missing_values_qty = float(number_of_missing_values_qty / length_qty) \r\n",
        "#mengubah ke dalam bentuk persen\r\n",
        "pct_of_missing_values_qty = '{0:.1f}%'.format(float_of_missing_values_qty*100) \r\n",
        "#print hasil percent dari missing value\r\n",
        "print('Persentase missing value kolom Quantity:', pct_of_missing_values_qty)\r\n",
        "#Mengisi missing value tersebut dengan mean dari kolom tersebut\r\n",
        "uncleaned_raw['Quantity'] = uncleaned_raw['Quantity'].fillna(uncleaned_raw['Quantity'].mean())"
      ],
      "execution_count": 1,
      "outputs": [
        {
          "output_type": "stream",
          "text": [
            "Lima data teratas:\n",
            "   InvoiceNo                          Description  ...  CustomerID      City\n",
            "0     536365   WHITE HANGING HEART T-LIGHT HOLDER  ...       17850  Surabaya\n",
            "1     536366                  WHITE METAL LANTERN  ...       17850  Surabaya\n",
            "2     536367       CREAM CUPID HEARTS COAT HANGER  ...       17850  Surabaya\n",
            "3     536368  KNITTED UNION FLAG HOT WATER BOTTLE  ...       17850   Jakarta\n",
            "4     536369       RED WOOLLY HOTTIE WHITE HEART.  ...       17850     Medan\n",
            "\n",
            "[5 rows x 7 columns]\n",
            "\n",
            "Kolom dengan missing value:\n",
            "InvoiceNo      False\n",
            "Description    False\n",
            "Quantity        True\n",
            "InvoiceDate    False\n",
            "UnitPrice      False\n",
            "CustomerID     False\n",
            "City           False\n",
            "dtype: bool\n",
            "Persentase missing value kolom Quantity: 4.0%\n"
          ],
          "name": "stdout"
        }
      ]
    },
    {
      "cell_type": "code",
      "metadata": {
        "colab": {
          "base_uri": "https://localhost:8080/",
          "height": 276
        },
        "id": "woKn6z1C45eO",
        "outputId": "586a3451-855e-413e-fd25-47bc75f30e34"
      },
      "source": [
        "import matplotlib.pyplot as plt\r\n",
        "#Mengetahui kolom yang memiliki outliers!\r\n",
        "uncleaned_raw.boxplot()\r\n",
        "plt.show()"
      ],
      "execution_count": 2,
      "outputs": [
        {
          "output_type": "display_data",
          "data": {
            "image/png": "[encoded data removed]",
            "text/plain": [
              "<Figure size 432x288 with 1 Axes>"
            ]
          },
          "metadata": {
            "tags": [],
            "needs_background": "light"
          }
        }
      ]
    },
    {
      "cell_type": "code",
      "metadata": {
        "colab": {
          "base_uri": "https://localhost:8080/"
        },
        "id": "a7S0wutC5Buu",
        "outputId": "cdded3cb-1f86-4557-8d36-93c198d3e412"
      },
      "source": [
        "#Check IQR\r\n",
        "Q1 = uncleaned_raw['UnitPrice'].quantile(0.25)\r\n",
        "Q3 = uncleaned_raw['UnitPrice'].quantile(0.75)\r\n",
        "IQR = Q3 - Q1\r\n",
        "#removing outliers\r\n",
        "uncleaned_raw = uncleaned_raw[~((uncleaned_raw[['UnitPrice']] < (Q1 - 1.5 * IQR)) | (uncleaned_raw[['UnitPrice']] > (Q3 + 1.5 * IQR)))]\r\n",
        "#check for duplication\r\n",
        "print(uncleaned_raw.duplicated(subset=None))\r\n",
        "#remove duplication\r\n",
        "uncleaned_raw = uncleaned_raw.drop_duplicates()"
      ],
      "execution_count": 3,
      "outputs": [
        {
          "output_type": "stream",
          "text": [
            "0      False\n",
            "1      False\n",
            "2      False\n",
            "3      False\n",
            "4      False\n",
            "       ...  \n",
            "500     True\n",
            "501     True\n",
            "502     True\n",
            "503     True\n",
            "504     True\n",
            "Length: 505, dtype: bool\n"
          ],
          "name": "stdout"
        }
      ]
    },
    {
      "cell_type": "code",
      "metadata": {
        "id": "kEAHkpna5FQb"
      },
      "source": [
        ""
      ],
      "execution_count": null,
      "outputs": []
    }
  ]
}